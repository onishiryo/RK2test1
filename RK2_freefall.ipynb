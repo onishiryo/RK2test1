{
  "nbformat": 4,
  "nbformat_minor": 0,
  "metadata": {
    "colab": {
      "name": "RK2-freefall.ipynb",
      "provenance": [],
      "authorship_tag": "ABX9TyPF1FDtjAtlrpRVp7Rp9ASP",
      "include_colab_link": true
    },
    "kernelspec": {
      "name": "python3",
      "display_name": "Python 3"
    },
    "language_info": {
      "name": "python"
    }
  },
  "cells": [
    {
      "cell_type": "markdown",
      "metadata": {
        "id": "view-in-github",
        "colab_type": "text"
      },
      "source": [
        "<a href=\"https://colab.research.google.com/github/onishiryo/RK2test1/blob/main/RK2_freefall.ipynb\" target=\"_parent\"><img src=\"https://colab.research.google.com/assets/colab-badge.svg\" alt=\"Open In Colab\"/></a>"
      ]
    },
    {
      "cell_type": "code",
      "source": [
        "'''\n",
        "connect to google drive\n",
        "'''\n",
        "from google.colab import drive\n",
        "drive.mount('/content/drive')"
      ],
      "metadata": {
        "colab": {
          "base_uri": "https://localhost:8080/"
        },
        "id": "pdFMRac8hK2t",
        "outputId": "27fc2b6f-763c-4af7-e18f-60fb17b50f0f"
      },
      "execution_count": 1,
      "outputs": [
        {
          "output_type": "stream",
          "name": "stdout",
          "text": [
            "Mounted at /content/drive\n"
          ]
        }
      ]
    },
    {
      "cell_type": "code",
      "execution_count": 3,
      "metadata": {
        "id": "HzXX4oc6hCt0"
      },
      "outputs": [],
      "source": [
        "import numpy as np\n",
        "import os"
      ]
    },
    {
      "cell_type": "markdown",
      "source": [
        "$$ \\frac{dx}{dt} = u_0 $$\n",
        "$$ \\frac{dy}{dt} = v_0 - gt $$\n"
      ],
      "metadata": {
        "id": "s27AV3wPiSdF"
      }
    },
    {
      "cell_type": "code",
      "source": [
        "def RK2(t, u0,v0):\n",
        "    # integration with RK2\n",
        "    #\n",
        "    g=9.8 # gravitational acceleration [m/s2]\n",
        "\n",
        "    nstep= len(t)\n",
        "    dt= t[1]-t[0] #time interval, dt\n",
        "    xt, yt= np.zeros([nstep]), np.zeros([nstep]) #zero set\n",
        "    xt[0], yt[0] = 0.0, 0.0 #(x0,y0)=(0,0)\n",
        "\n",
        "    for n in range(nstep-1): #0,1,2,,,nstep-2\n",
        "        #RK first step\n",
        "        dxdt=u0\n",
        "        dydt=v0 - g*t[n]\n",
        "        xtm, ytm = xt[n]+dxdt*dt*0.5, yt[n]+dydt*dt*0.5\n",
        "        #RK second step\n",
        "        dxdt=u0\n",
        "        dydt=v0 - g*(t[n]+dt*0.5)\n",
        "        xt[n+1], yt[n+1]= xt[n]+dxdt*dt, yt[n]+dydt*dt        \n",
        "    #\n",
        "    print(\"final n =\",n)\n",
        "    return xt,yt"
      ],
      "metadata": {
        "id": "rSCv1ZHHhkIa"
      },
      "execution_count": 16,
      "outputs": []
    },
    {
      "cell_type": "code",
      "source": [
        "# Set initial velocities\n",
        "u0= 10.0; v0= 10.0\n",
        "\n",
        "print(\"initial velocities(u0,v0) =\",u0,v0)"
      ],
      "metadata": {
        "colab": {
          "base_uri": "https://localhost:8080/"
        },
        "id": "kEIEwixskyxF",
        "outputId": "6d55268a-d3af-4976-f5ab-17ab27c5f1fe"
      },
      "execution_count": 24,
      "outputs": [
        {
          "output_type": "stream",
          "name": "stdout",
          "text": [
            "initial velocities(u0,v0) = 10.0 10.0\n"
          ]
        }
      ]
    },
    {
      "cell_type": "code",
      "source": [
        "# time setting\n",
        "Tend= 5.0                   #end time\n",
        "dt= 1.0e-1                   #time interval\n",
        "nstep= int(Tend/dt+0.5) #number of time steps     \n",
        "t= np.arange(0, nstep, 1)*dt #t[0:nstep-1]\n",
        "print(\"Tend = \",Tend)\n",
        "print(\"number of steps = \",nstep)"
      ],
      "metadata": {
        "colab": {
          "base_uri": "https://localhost:8080/"
        },
        "id": "MeyqynDzlIwo",
        "outputId": "603bb90a-021f-4a39-a0fc-d42b8307711b"
      },
      "execution_count": 25,
      "outputs": [
        {
          "output_type": "stream",
          "name": "stdout",
          "text": [
            "Tend =  5.0\n",
            "number of steps =  50\n"
          ]
        }
      ]
    },
    {
      "cell_type": "code",
      "source": [
        "# calculate temporal evolution of position\n",
        "xt,yt = RK2(t, u0,v0)\n",
        "print(\"RK2 solved!\")"
      ],
      "metadata": {
        "colab": {
          "base_uri": "https://localhost:8080/"
        },
        "id": "pWlVE7BglIls",
        "outputId": "493e5b25-a101-4780-b5df-2e405d360167"
      },
      "execution_count": 26,
      "outputs": [
        {
          "output_type": "stream",
          "name": "stdout",
          "text": [
            "final n = 48\n",
            "RK2 solved!\n"
          ]
        }
      ]
    },
    {
      "cell_type": "code",
      "source": [
        "import matplotlib.pyplot as plt\n",
        "# make 2D Plot\n",
        "fig = plt.figure()\n",
        "\n",
        "plt.title('RK2 - Bullet trajectory')\n",
        "plt.xlabel('X [m]')\n",
        "plt.ylabel('Y [m]')\n",
        "plt.plot(xt, yt, linestyle = 'solid', label = 'bullet')\n",
        "plt.legend(loc = \"upper right\")\n",
        "\n",
        "#（例）a[::5] 配列aから5個に一つずつ取り出す\n",
        "plt.plot(xt[::5], yt[::5], 'o') \n",
        "\n",
        "plt.show()\n",
        "\n",
        "fig.savefig(\"bullet.png\")"
      ],
      "metadata": {
        "colab": {
          "base_uri": "https://localhost:8080/",
          "height": 295
        },
        "id": "YCScfaI9lhLT",
        "outputId": "f98036e3-9f87-4608-8499-bcbe8f88f887"
      },
      "execution_count": 33,
      "outputs": [
        {
          "output_type": "display_data",
          "data": {
            "text/plain": [
              "<Figure size 432x288 with 1 Axes>"
            ],
            "image/png": "[encoded data removed]"
          },
          "metadata": {
            "needs_background": "light"
          }
        }
      ]
    },
    {
      "cell_type": "code",
      "source": [
        "ToDoリスト\n",
        "\n",
        "-[ ] ToDo-1 初期速度を(u0,v0)=(10,10)の場合を描こう。\n",
        "-[ ] ToDo-2 1秒ごとに●マーカーを描こう。\n",
        "-[ ] ToDo-3 上記のpngファイルを保存しよう（→レポート提出）。"
      ],
      "metadata": {
        "id": "7GaziQUopFhK"
      },
      "execution_count": null,
      "outputs": []
    }
  ]
}