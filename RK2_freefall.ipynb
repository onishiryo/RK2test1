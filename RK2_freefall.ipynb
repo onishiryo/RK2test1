{
  "nbformat": 4,
  "nbformat_minor": 0,
  "metadata": {
    "colab": {
      "name": "RK2-freefall.ipynb",
      "provenance": [],
      "collapsed_sections": [
        "gOggHoIN93x0"
      ],
      "authorship_tag": "ABX9TyOsGctMpsxFsz3hPMAyS4IM",
      "include_colab_link": true
    },
    "kernelspec": {
      "name": "python3",
      "display_name": "Python 3"
    },
    "language_info": {
      "name": "python"
    }
  },
  "cells": [
    {
      "cell_type": "markdown",
      "metadata": {
        "id": "view-in-github",
        "colab_type": "text"
      },
      "source": [
        "<a href=\"https://colab.research.google.com/github/onishiryo/RK2test1/blob/main/RK2_freefall.ipynb\" target=\"_parent\"><img src=\"https://colab.research.google.com/assets/colab-badge.svg\" alt=\"Open In Colab\"/></a>"
      ]
    },
    {
      "cell_type": "code",
      "source": [
        "'''\n",
        "connect to google drive\n",
        "'''\n",
        "from google.colab import drive\n",
        "drive.mount('/content/drive')"
      ],
      "metadata": {
        "colab": {
          "base_uri": "https://localhost:8080/"
        },
        "id": "pdFMRac8hK2t",
        "outputId": "901fc9ca-286e-4096-fc2b-4e9210dbdf91"
      },
      "execution_count": 3,
      "outputs": [
        {
          "output_type": "stream",
          "name": "stdout",
          "text": [
            "Mounted at /content/drive\n"
          ]
        }
      ]
    },
    {
      "cell_type": "code",
      "execution_count": 4,
      "metadata": {
        "id": "HzXX4oc6hCt0"
      },
      "outputs": [],
      "source": [
        "import numpy as np\n",
        "import os"
      ]
    },
    {
      "cell_type": "markdown",
      "source": [
        "## 小さい物体がゆっくりと動く場合には（つまり、Reynolds数が小さい場合には）、物体に働く効力は速度に比例する。\n",
        "２次元で考えると、x,y方向の運動は次のように記述される：\n",
        "$$\n",
        "\\left\\{\n",
        "\\begin{array}{lcl}\n",
        "    \\frac{dx}{dt} &=& u \\\\\n",
        "    \\frac{dy}{dt} &=& v\n",
        "\\end{array}\n",
        "\\right.\n",
        "$$\n",
        "$$\n",
        "\\left\\{\n",
        "\\begin{array}{lcl}\n",
        "    m\\frac{du}{dt} &=& -ku \\\\\n",
        "    m\\frac{dv}{dt} &=& -kv - mg\n",
        "\\end{array}\n",
        "\\right.\n",
        "$$\n",
        "## 参考：Reynolds数が大きい場合には、物体に働く効力は速度の２乗に比例する。"
      ],
      "metadata": {
        "id": "s27AV3wPiSdF"
      }
    },
    {
      "cell_type": "code",
      "source": [
        "def RK2(t, u0,v0):\n",
        "    # integration with 2nd-order Runge-Kutta method\n",
        "    #\n",
        "    g=9.8 # gravitational acceleration [m/s2]\n",
        "    k=0.1 # coefficient for drag [-]\n",
        "    m=1.0 # mass [kg]\n",
        "\n",
        "    nstep= len(t)\n",
        "    dt= t[1]-t[0] # time interval, dt [s]\n",
        "    xt, yt= np.zeros([nstep]), np.zeros([nstep]) # zero set\n",
        "    xt[0], yt[0] = 0.0, 0.0 # (x0,y0)=(0,0)\n",
        "\n",
        "    u=u0; v=v0\n",
        "    for n in range(nstep-1): # 0,1,2,,,nstep-2\n",
        "      #RK first step\n",
        "        dxdt=u\n",
        "        dydt=v\n",
        "        dudt=-(k/m)*u\n",
        "        dvdt=-(k/m)*v-g\n",
        "        #integration\n",
        "        xtm = xt[n] +dxdt*dt*0.5\n",
        "        ytm = yt[n] +dydt*dt*0.5\n",
        "        um = u +dudt*dt*0.5\n",
        "        vm = v +dvdt*dt*0.5\n",
        "      #RK second step\n",
        "        dxdt=um\n",
        "        dydt=vm\n",
        "        dudt=-(k/m)*um\n",
        "        dvdt=-(k/m)*vm-g\n",
        "        #integration\n",
        "        xt[n+1]= xt[n] +dxdt*dt        \n",
        "        yt[n+1]= yt[n] +dydt*dt        \n",
        "        u = u +dudt*dt\n",
        "        v = v +dvdt*dt\n",
        "    #\n",
        "    print(\"final n =\",n)\n",
        "    return xt,yt"
      ],
      "metadata": {
        "id": "rSCv1ZHHhkIa"
      },
      "execution_count": 5,
      "outputs": []
    },
    {
      "cell_type": "code",
      "source": [
        "# Set initial velocities [m/s]\n",
        "u0= 10.0; v0= 30.0\n",
        "\n",
        "print(\"initial velocities(u0,v0) =\",u0,v0)"
      ],
      "metadata": {
        "colab": {
          "base_uri": "https://localhost:8080/"
        },
        "id": "kEIEwixskyxF",
        "outputId": "9b6cbd49-6087-419c-e465-188c88283dd0"
      },
      "execution_count": 6,
      "outputs": [
        {
          "output_type": "stream",
          "name": "stdout",
          "text": [
            "initial velocities(u0,v0) = 10.0 30.0\n"
          ]
        }
      ]
    },
    {
      "cell_type": "code",
      "source": [
        "# time setting\n",
        "Tend= 5.0               # end time [s]\n",
        "dt= 1.0e-4              # time interval [s]\n",
        "nstep= int(Tend/dt+0.5) # number of time steps     \n",
        "t= np.arange(0, nstep, 1)*dt # t[0:nstep-1]\n",
        "print(\"Tend = \",Tend)\n",
        "print(\"number of steps = \",nstep)"
      ],
      "metadata": {
        "colab": {
          "base_uri": "https://localhost:8080/"
        },
        "id": "MeyqynDzlIwo",
        "outputId": "5a52a605-6251-42be-fedb-d6414fa8021e"
      },
      "execution_count": 18,
      "outputs": [
        {
          "output_type": "stream",
          "name": "stdout",
          "text": [
            "Tend =  5.0\n",
            "number of steps =  50000\n"
          ]
        }
      ]
    },
    {
      "cell_type": "code",
      "source": [
        "# calculate temporal evolution of position\n",
        "xt,yt = RK2(t, u0,v0)\n",
        "print(\"RK2 solved!\")\n",
        "print(\"final position is (\",xt[nstep-1],\",\",yt[nstep-1],\").\")"
      ],
      "metadata": {
        "colab": {
          "base_uri": "https://localhost:8080/"
        },
        "id": "pWlVE7BglIls",
        "outputId": "dddd578a-0e6c-485a-b18f-ffda6092d34d"
      },
      "execution_count": 19,
      "outputs": [
        {
          "output_type": "stream",
          "name": "stdout",
          "text": [
            "final n = 49998\n",
            "RK2 solved!\n",
            "final position is ( 39.346327494539295 , 13.64279193009754 ).\n"
          ]
        }
      ]
    },
    {
      "cell_type": "markdown",
      "source": [
        "dt=1 final position is ( 32.919804937500004 , 29.373503199999995 ).\n",
        "\n",
        "dt=0.1 final position is ( 38.73685650058384 , 15.63176320747324 ).\n",
        "\n",
        "dt=0.01 final position is ( 39.28624557297211 , 13.843943334043297 ).\n",
        "\n",
        "dt=0.001 final position is ( 39.34086836832114 , 13.66111511451056 ).\n",
        "\n",
        "dt=0.0001 final position is ( 39.346327494539295 , 13.64279193009754 )."
      ],
      "metadata": {
        "id": "XV0gxHJ2CDH9"
      }
    },
    {
      "cell_type": "code",
      "source": [
        "import matplotlib.pyplot as plt\n",
        "# make 2D Plot\n",
        "fig = plt.figure()\n",
        "\n",
        "plt.title('RK2 - Bullet trajectory')\n",
        "plt.xlabel('X [m]')\n",
        "plt.ylabel('Y [m]')\n",
        "plt.plot(xt, yt, linestyle = 'solid', label = 'bullet')\n",
        "plt.legend(loc = \"upper right\")\n",
        "\n",
        "#（例）a[::5] 配列aから5個に一つずつ取り出す\n",
        "plt.plot(xt[::10], yt[::10], 'o') \n",
        "\n",
        "plt.show()\n",
        "\n",
        "fig.savefig(\"bullet.png\")"
      ],
      "metadata": {
        "colab": {
          "base_uri": "https://localhost:8080/",
          "height": 295
        },
        "id": "YCScfaI9lhLT",
        "outputId": "739df191-a203-4141-b735-888324a638d9"
      },
      "execution_count": 9,
      "outputs": [
        {
          "output_type": "display_data",
          "data": {
            "text/plain": [
              "<Figure size 432x288 with 1 Axes>"
            ],
            "image/png": "[encoded data removed]"
          },
          "metadata": {
            "needs_background": "light"
          }
        }
      ]
    },
    {
      "cell_type": "markdown",
      "source": [
        "# ToDoリスト\n",
        "- [ ] <**ToDo-1**> 1秒ごとに●マーカーを描こう。\n",
        "- [ ] <**ToDo-2**> 初期速度を(u0,v0)=(10,10)の場合を描こう。\n",
        "- [ ] <**ToDo-3**> 抵抗が速度の２乗に比例する場合を描こう。\n",
        "- [ ] <**ToDo-4**> 抵抗係数を0にした場合を描こう。\n",
        "- [ ] <**ToDo-5**> 異なる二つの軌跡を一つのグラフに描こう。\n",
        "- [ ] <**ToDo**> 上記のpngファイルを保存しよう（→レポート提出）。\n",
        "- [ ] <**ToDo-extra**> dtを変化させ(dt=1,0.1,0.01,0.001,0.0001)、final positionの変化を確認しよう。\n"
      ],
      "metadata": {
        "id": "gOggHoIN93x0"
      }
    }
  ]
}